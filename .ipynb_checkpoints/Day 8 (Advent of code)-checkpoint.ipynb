{
 "cells": [
  {
   "cell_type": "code",
   "execution_count": 137,
   "metadata": {
    "scrolled": false
   },
   "outputs": [
    {
     "name": "stdout",
     "output_type": "stream",
     "text": [
      "nop +0\n",
      "acc +1\n",
      "jmp +4\n",
      "4\n",
      "2\n",
      "6\n",
      "acc +1\n",
      "jmp -4\n",
      "4\n",
      "7\n",
      "acc +3\n",
      "jmp -3\n",
      "3\n",
      "4\n",
      "nop +0\n",
      "acc +1\n",
      "jmp +4\n",
      "4\n",
      "2\n",
      "6\n",
      "acc +1\n",
      "jmp -4\n",
      "4\n",
      "7\n",
      "acc +3\n",
      "jmp -3\n",
      "3\n",
      "4\n",
      "the final accumilator is: 0\n"
     ]
    }
   ],
   "source": [
    "# Day 8, part one\n",
    "# NOT DONE< BAD\n",
    "\n",
    "accumulator = 0\n",
    "database = []\n",
    "memory = []\n",
    "\n",
    "def working_lines(database):\n",
    "    i = 0\n",
    "    accumulator = 0\n",
    "    memory = []\n",
    "    \n",
    "    while i < len(database):\n",
    "        \n",
    "        line = database[i]\n",
    "        if i in memory:\n",
    "            u = memory[-1]\n",
    "            return database\n",
    "        memory.append(i)\n",
    "        print(line)\n",
    "        \n",
    "        if \"acc\" in line:\n",
    "            argument = int(line[5:])\n",
    "            if \"-\" in line:\n",
    "                accumulator -= argument\n",
    "            elif \"+\" in line:\n",
    "                accumulator += argument\n",
    "            i += 1\n",
    "    \n",
    "        # The jump function\n",
    "        if \"jmp\" in line:\n",
    "            argument = int(line[5:])\n",
    "            print(argument)\n",
    "            print(i)\n",
    "            if \"-\" in line:\n",
    "                i -= argument\n",
    "            elif \"+\" in line:\n",
    "                i += argument\n",
    "                print(i)\n",
    "        if \"nop\" in line:\n",
    "            i += 1\n",
    "            \n",
    "    print(\"done!\")\n",
    "    print(f\"the final accumilator was: {accumulator}\")\n",
    "    print(f\"The final i was: {i}/{len(database)}\")\n",
    "    print(f\"Chaning the second to last line in database, then trying again.\")\n",
    "    print(f\"The second to last was {database[u]}\")\n",
    "\n",
    "\n",
    "# Line handling, creating lines database for followthru;\n",
    "f = open(\"infinite_loop_day8_testing.txt\", \"r\")\n",
    "line = f.readline()\n",
    "while line:\n",
    "    database.append(line[:-1])\n",
    "    line = f.readline()\n",
    "\n",
    "ds = working_lines(database)\n",
    "working_lines(ds)\n",
    "print(f\"the final accumilator is: {accumulator}\")"
   ]
  },
  {
   "cell_type": "code",
   "execution_count": 102,
   "metadata": {},
   "outputs": [
    {
     "ename": "NameError",
     "evalue": "name 'ads' is not defined",
     "output_type": "error",
     "traceback": [
      "\u001b[1;31m---------------------------------------------------------------------------\u001b[0m",
      "\u001b[1;31mNameError\u001b[0m                                 Traceback (most recent call last)",
      "\u001b[1;32m<ipython-input-102-cd97d3fcda89>\u001b[0m in \u001b[0;36m<module>\u001b[1;34m\u001b[0m\n\u001b[1;32m----> 1\u001b[1;33m \u001b[0mads\u001b[0m\u001b[1;33m\u001b[0m\u001b[1;33m\u001b[0m\u001b[0m\n\u001b[0m",
      "\u001b[1;31mNameError\u001b[0m: name 'ads' is not defined"
     ]
    }
   ],
   "source": []
  }
 ],
 "metadata": {
  "kernelspec": {
   "display_name": "Python 3",
   "language": "python",
   "name": "python3"
  },
  "language_info": {
   "codemirror_mode": {
    "name": "ipython",
    "version": 3
   },
   "file_extension": ".py",
   "mimetype": "text/x-python",
   "name": "python",
   "nbconvert_exporter": "python",
   "pygments_lexer": "ipython3",
   "version": "3.8.5"
  }
 },
 "nbformat": 4,
 "nbformat_minor": 4
}
