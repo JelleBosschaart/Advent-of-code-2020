{
 "cells": [
  {
   "cell_type": "code",
   "execution_count": 2,
   "metadata": {},
   "outputs": [
    {
     "name": "stdout",
     "output_type": "stream",
     "text": [
      "Went wrong on 257342611\n",
      "\n",
      "Went wrong on 108297043768811\n"
     ]
    }
   ],
   "source": [
    "# Day 9 (Advent of code), challange one\n",
    "# XMAS encryption\n",
    "# I like this code\n",
    "\n",
    "lines = []\n",
    "i = 0\n",
    "\n",
    "def summ(lines, line):\n",
    "    # Debugging\n",
    "    #print(f\"Line is {line}\")\n",
    "    #print(f\"Last 25 numbers is {lines}\")\n",
    "    for sum1 in lines:\n",
    "        for sum2 in lines:\n",
    "            if (sum1+sum2) == line:\n",
    "                return \"true\"\n",
    "\n",
    "# file handling\n",
    "f = open(\"xmas_encoding_day9.txt\", \"r\")\n",
    "line = f.readline()\n",
    "i += 1\n",
    "\n",
    "while line:\n",
    "    if i<=25:\n",
    "        # Creating the preamble of 25 numbers.\n",
    "        lines.append(int(line[:-1]))\n",
    "    else:\n",
    "        # Making sure only 25 past numbers get stored.\n",
    "        if summ(lines, int(line[:-1])) != \"true\":\n",
    "            print(f\"Went wrong on {line}\")\n",
    "        lines.append(int(line[:-1]))\n",
    "        lines.remove(lines[0])\n",
    "    i += 1\n",
    "    line = f.readline()"
   ]
  },
  {
   "cell_type": "code",
   "execution_count": null,
   "metadata": {},
   "outputs": [],
   "source": [
    "# Day 9 (Advent of code), challange two\n",
    "\n",
    "import numpy as np\n",
    "\n",
    "lines = []\n",
    "all_lines = []\n",
    "i = 0\n",
    "result = []\n",
    "mistakes =[]\n",
    "\n",
    "def challenge2(codes, invalid_num):\n",
    "    contigous_list = []\n",
    "    for i in range(0, len(codes)-1):\n",
    "        for j in range(1, len(codes)-1):\n",
    "            stack = np.array(codes[i:j])\n",
    "            if np.sum(stack) == invalid_num:\n",
    "                return (stack.min()+stack.max())\n",
    "\n",
    "# file handling\n",
    "\n",
    "f = open(\"xmas_encoding_day9.txt\", \"r\")\n",
    "line = f.readline()\n",
    "i += 1\n",
    "\n",
    "while line:\n",
    "    if i<=25:\n",
    "        # Creating the preamble of 25 numbers.\n",
    "        lines.append(int(line[:-1]))\n",
    "        all_lines.append(int(line[:-1]))\n",
    "    else:\n",
    "        # Making sure only 25 past numbers get stored.\n",
    "        if summ(lines, int(line[:-1])) != \"true\":\n",
    "            mistakes.append(line[:-1])\n",
    "        lines.append(int(line[:-1]))\n",
    "        all_lines.append(int(line[:-1]))\n",
    "        lines.remove(lines[0])\n",
    "    i += 1\n",
    "    line = f.readline()\n",
    "\n",
    "x = challenge2(all_lines, 257342611)\n",
    "print(x)\n",
    "\n",
    "print(\"Script is done.\")"
   ]
  },
  {
   "cell_type": "code",
   "execution_count": 33,
   "metadata": {},
   "outputs": [
    {
     "ename": "NameError",
     "evalue": "name 'asdasd' is not defined",
     "output_type": "error",
     "traceback": [
      "\u001b[1;31m---------------------------------------------------------------------------\u001b[0m",
      "\u001b[1;31mNameError\u001b[0m                                 Traceback (most recent call last)",
      "\u001b[1;32m<ipython-input-33-efb445db9a2e>\u001b[0m in \u001b[0;36m<module>\u001b[1;34m\u001b[0m\n\u001b[1;32m----> 1\u001b[1;33m \u001b[0masdasd\u001b[0m\u001b[1;33m\u001b[0m\u001b[1;33m\u001b[0m\u001b[0m\n\u001b[0m",
      "\u001b[1;31mNameError\u001b[0m: name 'asdasd' is not defined"
     ]
    }
   ],
   "source": []
  },
  {
   "cell_type": "code",
   "execution_count": null,
   "metadata": {},
   "outputs": [],
   "source": []
  }
 ],
 "metadata": {
  "kernelspec": {
   "display_name": "Python 3",
   "language": "python",
   "name": "python3"
  },
  "language_info": {
   "codemirror_mode": {
    "name": "ipython",
    "version": 3
   },
   "file_extension": ".py",
   "mimetype": "text/x-python",
   "name": "python",
   "nbconvert_exporter": "python",
   "pygments_lexer": "ipython3",
   "version": "3.8.5"
  }
 },
 "nbformat": 4,
 "nbformat_minor": 4
}
