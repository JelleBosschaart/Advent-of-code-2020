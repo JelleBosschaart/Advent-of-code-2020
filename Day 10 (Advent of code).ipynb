{
 "cells": [
  {
   "cell_type": "code",
   "execution_count": 89,
   "metadata": {},
   "outputs": [
    {
     "name": "stdout",
     "output_type": "stream",
     "text": [
      "Starting calculations for challange one.\n",
      "(22, 10)\n",
      "220\n",
      "Program executed.\n"
     ]
    }
   ],
   "source": [
    "# Day 10 Advent of Code, challange one\n",
    "\n",
    "database = []\n",
    "\n",
    "def challange1(database):\n",
    "    print(\"Starting calculations for challange one.\")\n",
    "    database.sort()\n",
    "    gap = 0\n",
    "    one_jolt_difference = 0\n",
    "    three_jolt_difference = 0\n",
    "    for i in range(len(database)-1):\n",
    "        gap = database[i+1] - database[i]\n",
    "        if gap == 1:\n",
    "            one_jolt_difference += 1\n",
    "        elif gap == 3:\n",
    "            three_jolt_difference +=1\n",
    "    return (one_jolt_difference, three_jolt_difference)\n",
    "\n",
    "f = open(\"jolts_day10.txt\", \"r\")\n",
    "line = f.readline()\n",
    "while line:\n",
    "    line = line[:-1]\n",
    "    database.append(int(line))\n",
    "    line = f.readline()\n",
    "\n",
    "database.append(0) # Start at zero\n",
    "database.append(max(database)+3) # Add device joltege\n",
    "\n",
    "\n",
    "answer_challange_one = challange1(database)\n",
    "\n",
    "print(answer_challange_one)\n",
    "print(answer_challange_one[0]*answer_challange_one[1])\n",
    "\n",
    "\n",
    "    \n",
    "print(\"Program executed.\")"
   ]
  },
  {
   "cell_type": "code",
   "execution_count": 92,
   "metadata": {
    "scrolled": true
   },
   "outputs": [
    {
     "name": "stdout",
     "output_type": "stream",
     "text": [
      "[0, 1, 2, 3, 4, 7, 8, 9, 10, 11, 14, 17, 18, 19, 20, 23, 24, 25, 28, 31, 32, 33, 34, 35, 38, 39, 42, 45, 46, 47, 48, 49, 52]\n"
     ]
    }
   ],
   "source": [
    "# Day 10 Advent of Code, challange two\n",
    "database = []\n",
    "\n",
    "def check_database(database):\n",
    "    for index in range(len(database)-2):\n",
    "        if (database[index+1] - database[index]) > 3:\n",
    "            print(\"The following database is NOT good...\")\n",
    "            print(database)\n",
    "            return \"false\"\n",
    "    print(\"The following database is good!\")\n",
    "    print(database)\n",
    "    return database\n",
    "    \n",
    "f = open(\"jolts_day10.txt\", \"r\")\n",
    "line = f.readline()\n",
    "while line:\n",
    "    line = line[:-1]\n",
    "    database.append(int(line))\n",
    "    line = f.readline()\n",
    "\n",
    "database.append(0) # Start at zero\n",
    "database.append(max(database)+3) # Add device joltege\n",
    "database.sort()\n",
    "print(database)"
   ]
  },
  {
   "cell_type": "code",
   "execution_count": null,
   "metadata": {},
   "outputs": [],
   "source": []
  }
 ],
 "metadata": {
  "kernelspec": {
   "display_name": "Python 3",
   "language": "python",
   "name": "python3"
  },
  "language_info": {
   "codemirror_mode": {
    "name": "ipython",
    "version": 3
   },
   "file_extension": ".py",
   "mimetype": "text/x-python",
   "name": "python",
   "nbconvert_exporter": "python",
   "pygments_lexer": "ipython3",
   "version": "3.8.5"
  }
 },
 "nbformat": 4,
 "nbformat_minor": 4
}
