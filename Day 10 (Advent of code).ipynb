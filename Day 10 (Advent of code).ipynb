{
 "cells": [
  {
   "cell_type": "code",
   "execution_count": 89,
   "metadata": {},
   "outputs": [
    {
     "name": "stdout",
     "output_type": "stream",
     "text": [
      "Starting calculations for challange one.\n",
      "(22, 10)\n",
      "220\n",
      "Program executed.\n"
     ]
    }
   ],
   "source": [
    "# Day 10 Advent of Code, challange one\n",
    "\n",
    "database = []\n",
    "\n",
    "def challange1(database):\n",
    "    print(\"Starting calculations for challange one.\")\n",
    "    database.sort()\n",
    "    gap = 0\n",
    "    one_jolt_difference = 0\n",
    "    three_jolt_difference = 0\n",
    "    for i in range(len(database)-1):\n",
    "        gap = database[i+1] - database[i]\n",
    "        if gap == 1:\n",
    "            one_jolt_difference += 1\n",
    "        elif gap == 3:\n",
    "            three_jolt_difference +=1\n",
    "    return (one_jolt_difference, three_jolt_difference)\n",
    "\n",
    "f = open(\"jolts_day10.txt\", \"r\")\n",
    "line = f.readline()\n",
    "while line:\n",
    "    line = line[:-1]\n",
    "    database.append(int(line))\n",
    "    line = f.readline()\n",
    "\n",
    "database.append(0) # Start at zero\n",
    "database.append(max(database)+3) # Add device joltege\n",
    "\n",
    "\n",
    "answer_challange_one = challange1(database)\n",
    "\n",
    "print(answer_challange_one)\n",
    "print(answer_challange_one[0]*answer_challange_one[1])\n",
    "\n",
    "\n",
    "print(\"Program executed.\")"
   ]
  },
  {
   "cell_type": "code",
   "execution_count": 24,
   "metadata": {
    "scrolled": true
   },
   "outputs": [
    {
     "name": "stdout",
     "output_type": "stream",
     "text": [
      "16198260678656\n"
     ]
    }
   ],
   "source": [
    "# Day 10 Advent of Code, challange two\n",
    "database = []\n",
    "\n",
    "f = open(\"jolts_day10.txt\", \"r\")\n",
    "line = f.readline()\n",
    "while line:\n",
    "    line = line[:-1]\n",
    "    database.append(int(line))\n",
    "    line = f.readline()\n",
    "    \n",
    "database.append(0) # Start at zero\n",
    "database.append(max(database)+3) # Add device joltege\n",
    "database.sort()\n",
    "\n",
    "def find_paths(database):\n",
    "    \n",
    "    paths = [0] * (max(database) + 1)\n",
    "    paths[0] = 1\n",
    "\n",
    "    for index in range(1, max(database) +1):\n",
    "        for x in range(1, 4):\n",
    "            if(index - x) in database:\n",
    "                paths[index] += paths[index-x]\n",
    "    return str(paths[-1])\n",
    "\n",
    "x = find_paths(database)\n",
    "print(x)"
   ]
  },
  {
   "cell_type": "code",
   "execution_count": null,
   "metadata": {},
   "outputs": [],
   "source": []
  }
 ],
 "metadata": {
  "kernelspec": {
   "display_name": "Python 3",
   "language": "python",
   "name": "python3"
  },
  "language_info": {
   "codemirror_mode": {
    "name": "ipython",
    "version": 3
   },
   "file_extension": ".py",
   "mimetype": "text/x-python",
   "name": "python",
   "nbconvert_exporter": "python",
   "pygments_lexer": "ipython3",
   "version": "3.8.5"
  }
 },
 "nbformat": 4,
 "nbformat_minor": 4
}
