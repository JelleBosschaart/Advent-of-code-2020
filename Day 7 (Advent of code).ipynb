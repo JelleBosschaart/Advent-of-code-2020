{
 "cells": [
  {
   "cell_type": "code",
   "execution_count": 128,
   "metadata": {
    "scrolled": false
   },
   "outputs": [
    {
     "name": "stdout",
     "output_type": "stream",
     "text": [
      "Starting data relation calculations, to find out how many bags contain a shiny gold bag, for 594.0 families.\n",
      "The amount of bags with a shiny gold bag inside, is 370!\n",
      "Starting to count all bags inside a shiny gold bag, for 594.0 families.\n",
      "The amount of bags required inside a shiny gold bag is None\n"
     ]
    }
   ],
   "source": [
    "f = open(\"bag_rules_day7.txt\", \"r\")\n",
    "line = f.readline()\n",
    "\n",
    "data = []\n",
    "result = []\n",
    "\n",
    "def bag_identify(string):\n",
    "    # Gotta get them variables set up\n",
    "    amounts = []\n",
    "    list_str2 = []\n",
    "    \n",
    "    contain = string.find(\"contain\")\n",
    "    original_bag = string[0:contain-2]\n",
    "    bags_contained = string[contain+8:]\n",
    "    string1 = string[contain+8:-2]\n",
    "    list_str = string1.split(',')\n",
    "    \n",
    "    # Get bag colors, in a list with strings.\n",
    "    for str in list_str:\n",
    "        for i in str:\n",
    "            if i.isdigit():\n",
    "                u = str.find(i)\n",
    "                str = str[u+2:]\n",
    "                \n",
    "                # does bag end with (\"s\")? Remove it.\n",
    "                if str[len(str)-1] == \"s\":\n",
    "                    str = str[:len(str)-1]\n",
    "                list_str2.append(str)\n",
    "                \n",
    "    # Get the amounts of bags, in a list with integers.\n",
    "    for i in string:\n",
    "        if i.isdigit():\n",
    "            amounts.append(int(i))\n",
    "            \n",
    "    #DEBUG:\n",
    "    #print(f\"The line is {line}\")   \n",
    "    #print(f\"The original bag is: {original_bag}\")\n",
    "    #print(f\"The numbers/amounts are: {amounts}\")\n",
    "    #print(f\"The contained bags are: {list_str2}\")\n",
    "    \n",
    "    # database\n",
    "    return original_bag, list_str2\n",
    "\n",
    "def bag_contains_goal(databs, goal, bag):\n",
    "    containments_of_bag = data[data.index(bag)+1]\n",
    "    if goal in containments_of_bag:\n",
    "        return \"true\"\n",
    "    \n",
    "def data_relation(databs, goal): # aka part 1\n",
    "    print(f\"Starting data relation calculations, to find out how many bags contain a {goal}, for {len(databs)/2} families.\")\n",
    "    containment = []\n",
    "    for bag in databs:\n",
    "        if type(bag) == str:\n",
    "            # 1 So, the bag is a main bag.\n",
    "            # 2 Here I check wether the bag contains the -goal- (bag_contains_goal) CHECK\n",
    "            # 3 if yes, add -bag- to list -result- CHECK\n",
    "            # 4 if not, go thru bag's containment. \n",
    "            # 5 check for them if they contain a gold bag.\n",
    "            # 6 if they can, add -bag- to list -result.\n",
    "            # 7 if they can't, repeat from line 4 for bag = bag_contains\n",
    "            # repeat.\n",
    "            if bag_contains_goal(databs, goal, bag) == \"true\":\n",
    "                result.append(bag)\n",
    "            else:\n",
    "                for containment1 in (data[data.index(bag)+1]):\n",
    "                    if bag_contains_goal(databs, goal, containment1) == \"true\":\n",
    "                        result.append(bag)\n",
    "                    else:\n",
    "                        for containment2 in (data[data.index(containment1)+1]):\n",
    "                            if bag_contains_goal(databs, goal, containment2) == \"true\":\n",
    "                                result.append(bag)\n",
    "                            else:\n",
    "                                for containment3 in (data[data.index(containment2)+1]):\n",
    "                                    if bag_contains_goal(databs, goal, containment3) == \"true\":\n",
    "                                        result.append(bag)\n",
    "                                    else:\n",
    "                                        for containment4 in (data[data.index(containment3)+1]):\n",
    "                                            if bag_contains_goal(databs, goal, containment4) == \"true\":\n",
    "                                                result.append(bag)\n",
    "                                            else:\n",
    "                                                for containment5 in (data[data.index(containment4)+1]):\n",
    "                                                    if bag_contains_goal(databs, goal, containment5) == \"true\":\n",
    "                                                        result.append(bag)\n",
    "                                                    else:\n",
    "                                                        for containment6 in (data[data.index(containment5)+1]):\n",
    "                                                            if bag_contains_goal(databs, goal, containment6) == \"true\":\n",
    "                                                                result.append(bag)\n",
    "                                                            else:\n",
    "                                                                for containment7 in (data[data.index(containment6)+1]):\n",
    "                                                                    if bag_contains_goal(databs, goal, containment7) == \"true\":\n",
    "                                                                        result.append(bag)\n",
    "                    \n",
    "    return result\n",
    "\n",
    "def bags_inside(databs, mBag): # Part 2\n",
    "    print(f\"Starting to count all bags inside a {mBag}, for {len(databs)/2} families.\")\n",
    "    # How many individual bags are required inside your single shiny gold bag?\n",
    "\n",
    "# The file handling\n",
    "while line:\n",
    "    x = bag_identify(line)\n",
    "    line = f.readline()\n",
    "    data += x\n",
    "\n",
    "# OUTPUT\n",
    "answer1 = data_relation(data, 'shiny gold bag')\n",
    "answer1 = list(dict.fromkeys(answer))\n",
    "print(f\"The amount of bags with a shiny gold bag inside, is {len(answer1)}!\")\n",
    "answer2 = bags_inside(data, 'shiny gold bag')\n",
    "print(f\"The amount of bags required inside a shiny gold bag is {answer2}\")"
   ]
  },
  {
   "cell_type": "code",
   "execution_count": 105,
   "metadata": {},
   "outputs": [
    {
     "name": "stdout",
     "output_type": "stream",
     "text": [
      "370 different colors can contain 'shiny gold.'\n",
      "29547 bags are in a 'shiny gold.'\n"
     ]
    }
   ],
   "source": []
  },
  {
   "cell_type": "code",
   "execution_count": null,
   "metadata": {},
   "outputs": [],
   "source": []
  }
 ],
 "metadata": {
  "kernelspec": {
   "display_name": "Python 3",
   "language": "python",
   "name": "python3"
  },
  "language_info": {
   "codemirror_mode": {
    "name": "ipython",
    "version": 3
   },
   "file_extension": ".py",
   "mimetype": "text/x-python",
   "name": "python",
   "nbconvert_exporter": "python",
   "pygments_lexer": "ipython3",
   "version": "3.8.5"
  }
 },
 "nbformat": 4,
 "nbformat_minor": 4
}
