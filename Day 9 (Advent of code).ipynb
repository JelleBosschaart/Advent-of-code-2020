{
 "cells": [
  {
   "cell_type": "code",
   "execution_count": 20,
   "metadata": {},
   "outputs": [
    {
     "name": "stdout",
     "output_type": "stream",
     "text": [
      "Went wrong on 257342611\n",
      "\n",
      "Went wrong on 108297043768811\n"
     ]
    }
   ],
   "source": [
    "# Day 9 (Advent of code), challange one\n",
    "# XMAS encryption\n",
    "# I like this code\n",
    "\n",
    "lines = []\n",
    "i = 0\n",
    "\n",
    "def summ(lines, line):\n",
    "    # Debugging\n",
    "    #print(f\"Line is {line}\")\n",
    "    #print(f\"Last 25 numbers is {lines}\")\n",
    "    for sum1 in lines:\n",
    "        for sum2 in lines:\n",
    "            if (sum1+sum2) == line:\n",
    "                return \"true\"\n",
    "\n",
    "# file handling\n",
    "f = open(\"xmas_encoding_day9.txt\", \"r\")\n",
    "line = f.readline()\n",
    "i += 1\n",
    "while line:\n",
    "    \n",
    "    # Creating the preamble of 25 numbers.\n",
    "    if i<=25:\n",
    "        lines.append(int(line[:-1]))\n",
    "    \n",
    "    # Making sure only 25 past numbers get stored.\n",
    "    else:\n",
    "        if summ(lines, int(line[:-1])) != \"true\":\n",
    "            print(f\"Went wrong on {line}\")\n",
    "        lines.append(int(line[:-1]))\n",
    "        lines.remove(lines[0])\n",
    "        \n",
    "    i += 1\n",
    "    \n",
    "    line = f.readline()"
   ]
  },
  {
   "cell_type": "code",
   "execution_count": 41,
   "metadata": {},
   "outputs": [
    {
     "name": "stdout",
     "output_type": "stream",
     "text": [
      "Went wrong on 257342611\n",
      "\n"
     ]
    },
    {
     "name": "stderr",
     "output_type": "stream",
     "text": [
      "<ipython-input-41-27ef370aed3c>:15: FutureWarning: elementwise comparison failed; returning scalar instead, but in the future will perform elementwise comparison\n",
      "  if a == line[:-1]:\n"
     ]
    },
    {
     "ename": "ValueError",
     "evalue": "need at least one array to stack",
     "output_type": "error",
     "traceback": [
      "\u001b[1;31m---------------------------------------------------------------------------\u001b[0m",
      "\u001b[1;31mValueError\u001b[0m                                Traceback (most recent call last)",
      "\u001b[1;32m<ipython-input-41-27ef370aed3c>\u001b[0m in \u001b[0;36m<module>\u001b[1;34m\u001b[0m\n\u001b[0;32m     34\u001b[0m         \u001b[1;32mif\u001b[0m \u001b[0msumm\u001b[0m\u001b[1;33m(\u001b[0m\u001b[0mlines\u001b[0m\u001b[1;33m,\u001b[0m \u001b[0mint\u001b[0m\u001b[1;33m(\u001b[0m\u001b[0mline\u001b[0m\u001b[1;33m[\u001b[0m\u001b[1;33m:\u001b[0m\u001b[1;33m-\u001b[0m\u001b[1;36m1\u001b[0m\u001b[1;33m]\u001b[0m\u001b[1;33m)\u001b[0m\u001b[1;33m)\u001b[0m \u001b[1;33m!=\u001b[0m \u001b[1;34m\"true\"\u001b[0m\u001b[1;33m:\u001b[0m\u001b[1;33m\u001b[0m\u001b[1;33m\u001b[0m\u001b[0m\n\u001b[0;32m     35\u001b[0m             \u001b[0mprint\u001b[0m\u001b[1;33m(\u001b[0m\u001b[1;34mf\"Went wrong on {line}\"\u001b[0m\u001b[1;33m)\u001b[0m\u001b[1;33m\u001b[0m\u001b[1;33m\u001b[0m\u001b[0m\n\u001b[1;32m---> 36\u001b[1;33m             \u001b[0mx\u001b[0m \u001b[1;33m=\u001b[0m \u001b[0mfind_contagious_numbers\u001b[0m\u001b[1;33m(\u001b[0m\u001b[0mall_lines\u001b[0m\u001b[1;33m,\u001b[0m \u001b[0mline\u001b[0m\u001b[1;33m)\u001b[0m\u001b[1;33m\u001b[0m\u001b[1;33m\u001b[0m\u001b[0m\n\u001b[0m\u001b[0;32m     37\u001b[0m             \u001b[0mprint\u001b[0m\u001b[1;33m(\u001b[0m\u001b[0mx\u001b[0m\u001b[1;33m)\u001b[0m\u001b[1;33m\u001b[0m\u001b[1;33m\u001b[0m\u001b[0m\n\u001b[0;32m     38\u001b[0m         \u001b[0mlines\u001b[0m\u001b[1;33m.\u001b[0m\u001b[0mappend\u001b[0m\u001b[1;33m(\u001b[0m\u001b[0mint\u001b[0m\u001b[1;33m(\u001b[0m\u001b[0mline\u001b[0m\u001b[1;33m[\u001b[0m\u001b[1;33m:\u001b[0m\u001b[1;33m-\u001b[0m\u001b[1;36m1\u001b[0m\u001b[1;33m]\u001b[0m\u001b[1;33m)\u001b[0m\u001b[1;33m)\u001b[0m\u001b[1;33m\u001b[0m\u001b[1;33m\u001b[0m\u001b[0m\n",
      "\u001b[1;32m<ipython-input-41-27ef370aed3c>\u001b[0m in \u001b[0;36mfind_contagious_numbers\u001b[1;34m(all_lines, line)\u001b[0m\n\u001b[0;32m     12\u001b[0m         \u001b[1;32mfor\u001b[0m \u001b[0mblock2\u001b[0m \u001b[1;32min\u001b[0m \u001b[0mrange\u001b[0m\u001b[1;33m(\u001b[0m\u001b[1;36m1\u001b[0m\u001b[1;33m,\u001b[0m \u001b[0mlen\u001b[0m\u001b[1;33m(\u001b[0m\u001b[0mall_lines\u001b[0m\u001b[1;33m)\u001b[0m\u001b[1;33m-\u001b[0m\u001b[1;36m1\u001b[0m\u001b[1;33m)\u001b[0m\u001b[1;33m:\u001b[0m\u001b[1;33m\u001b[0m\u001b[1;33m\u001b[0m\u001b[0m\n\u001b[0;32m     13\u001b[0m             \u001b[0mlist\u001b[0m \u001b[1;33m=\u001b[0m \u001b[0mnp\u001b[0m\u001b[1;33m.\u001b[0m\u001b[0marray\u001b[0m\u001b[1;33m(\u001b[0m\u001b[0mall_lines\u001b[0m\u001b[1;33m[\u001b[0m\u001b[0mblock1\u001b[0m\u001b[1;33m:\u001b[0m\u001b[0mblock2\u001b[0m\u001b[1;33m]\u001b[0m\u001b[1;33m)\u001b[0m\u001b[1;33m\u001b[0m\u001b[1;33m\u001b[0m\u001b[0m\n\u001b[1;32m---> 14\u001b[1;33m             \u001b[0ma\u001b[0m \u001b[1;33m=\u001b[0m \u001b[0mnp\u001b[0m\u001b[1;33m.\u001b[0m\u001b[0mstack\u001b[0m\u001b[1;33m(\u001b[0m\u001b[0mlist\u001b[0m\u001b[1;33m)\u001b[0m\u001b[1;33m\u001b[0m\u001b[1;33m\u001b[0m\u001b[0m\n\u001b[0m\u001b[0;32m     15\u001b[0m             \u001b[1;32mif\u001b[0m \u001b[0ma\u001b[0m \u001b[1;33m==\u001b[0m \u001b[0mline\u001b[0m\u001b[1;33m[\u001b[0m\u001b[1;33m:\u001b[0m\u001b[1;33m-\u001b[0m\u001b[1;36m1\u001b[0m\u001b[1;33m]\u001b[0m\u001b[1;33m:\u001b[0m\u001b[1;33m\u001b[0m\u001b[1;33m\u001b[0m\u001b[0m\n\u001b[0;32m     16\u001b[0m                 \u001b[0mprint\u001b[0m\u001b[1;33m(\u001b[0m\u001b[1;34m\"match\"\u001b[0m\u001b[1;33m)\u001b[0m\u001b[1;33m\u001b[0m\u001b[1;33m\u001b[0m\u001b[0m\n",
      "\u001b[1;32m<__array_function__ internals>\u001b[0m in \u001b[0;36mstack\u001b[1;34m(*args, **kwargs)\u001b[0m\n",
      "\u001b[1;32mC:\\ProgramData\\Anaconda3\\lib\\site-packages\\numpy\\core\\shape_base.py\u001b[0m in \u001b[0;36mstack\u001b[1;34m(arrays, axis, out)\u001b[0m\n\u001b[0;32m    420\u001b[0m     \u001b[0marrays\u001b[0m \u001b[1;33m=\u001b[0m \u001b[1;33m[\u001b[0m\u001b[0masanyarray\u001b[0m\u001b[1;33m(\u001b[0m\u001b[0marr\u001b[0m\u001b[1;33m)\u001b[0m \u001b[1;32mfor\u001b[0m \u001b[0marr\u001b[0m \u001b[1;32min\u001b[0m \u001b[0marrays\u001b[0m\u001b[1;33m]\u001b[0m\u001b[1;33m\u001b[0m\u001b[1;33m\u001b[0m\u001b[0m\n\u001b[0;32m    421\u001b[0m     \u001b[1;32mif\u001b[0m \u001b[1;32mnot\u001b[0m \u001b[0marrays\u001b[0m\u001b[1;33m:\u001b[0m\u001b[1;33m\u001b[0m\u001b[1;33m\u001b[0m\u001b[0m\n\u001b[1;32m--> 422\u001b[1;33m         \u001b[1;32mraise\u001b[0m \u001b[0mValueError\u001b[0m\u001b[1;33m(\u001b[0m\u001b[1;34m'need at least one array to stack'\u001b[0m\u001b[1;33m)\u001b[0m\u001b[1;33m\u001b[0m\u001b[1;33m\u001b[0m\u001b[0m\n\u001b[0m\u001b[0;32m    423\u001b[0m \u001b[1;33m\u001b[0m\u001b[0m\n\u001b[0;32m    424\u001b[0m     \u001b[0mshapes\u001b[0m \u001b[1;33m=\u001b[0m \u001b[1;33m{\u001b[0m\u001b[0marr\u001b[0m\u001b[1;33m.\u001b[0m\u001b[0mshape\u001b[0m \u001b[1;32mfor\u001b[0m \u001b[0marr\u001b[0m \u001b[1;32min\u001b[0m \u001b[0marrays\u001b[0m\u001b[1;33m}\u001b[0m\u001b[1;33m\u001b[0m\u001b[1;33m\u001b[0m\u001b[0m\n",
      "\u001b[1;31mValueError\u001b[0m: need at least one array to stack"
     ]
    }
   ],
   "source": [
    "# Day 9 (Advent of code), challange two\n",
    "\n",
    "import numpy as np\n",
    "import itertools\n",
    "lines = []\n",
    "all_lines = []\n",
    "i = 0\n",
    "result = []\n",
    "\n",
    "def find_contagious_numbers(all_lines, line):\n",
    "    for block1 in range(0, len(all_lines)):\n",
    "        for block2 in range(1, len(all_lines)):\n",
    "            list = np.array(all_lines[block1:block2])\n",
    "            a = np.stack(list)\n",
    "            if a == line[:-1]:\n",
    "                print(\"match\")\n",
    "                resultLH = list[0] + list[-1]\n",
    "                return resultLH\n",
    "    return result\n",
    "\n",
    "# file handling\n",
    "f = open(\"xmas_encoding_day9.txt\", \"r\")\n",
    "line = f.readline()\n",
    "i += 1\n",
    "while line:\n",
    "    \n",
    "    # Creating the preamble of 25 numbers.\n",
    "    if i<=25:\n",
    "        lines.append(int(line[:-1]))\n",
    "        all_lines.append(int(line[:-1]))\n",
    "    \n",
    "    # Making sure only 25 past numbers get stored.\n",
    "    else:\n",
    "        if summ(lines, int(line[:-1])) != \"true\":\n",
    "            print(f\"Went wrong on {line}\")\n",
    "            x = find_contagious_numbers(all_lines, line)\n",
    "            print(x)\n",
    "        lines.append(int(line[:-1]))\n",
    "        all_lines.append(int(line[:-1]))\n",
    "        lines.remove(lines[0])\n",
    "    i += 1\n",
    "    \n",
    "    line = f.readline()\n",
    "    \n",
    "print(x)"
   ]
  },
  {
   "cell_type": "code",
   "execution_count": 34,
   "metadata": {},
   "outputs": [
    {
     "name": "stdout",
     "output_type": "stream",
     "text": [
      "[13662436 24189392  9726468 11788166 12940284 10060615 11091110 20618363\n",
      " 18260048 11509535 13280468 16439570 25875629 13074337 14753682 14845270\n",
      " 15227238] 35602097\n",
      "[257342611] 514685222\n"
     ]
    }
   ],
   "source": [
    "import numpy as np\n",
    "def challenge2(codes, invalid_num):\n",
    "    contigous_list = []\n",
    "\n",
    "    for i in range(0, len(codes)-1):\n",
    "        for j in range(1, len(codes)-1):\n",
    "            stack = np.array(codes[i:j])\n",
    "            if np.sum(stack) == invalid_num:\n",
    "                print(stack, stack.min()+stack.max())\n",
    "#             print(stack)\n",
    "challenge2(all_lines, 257342611)"
   ]
  },
  {
   "cell_type": "code",
   "execution_count": null,
   "metadata": {},
   "outputs": [],
   "source": []
  }
 ],
 "metadata": {
  "kernelspec": {
   "display_name": "Python 3",
   "language": "python",
   "name": "python3"
  },
  "language_info": {
   "codemirror_mode": {
    "name": "ipython",
    "version": 3
   },
   "file_extension": ".py",
   "mimetype": "text/x-python",
   "name": "python",
   "nbconvert_exporter": "python",
   "pygments_lexer": "ipython3",
   "version": "3.8.3"
  }
 },
 "nbformat": 4,
 "nbformat_minor": 4
}
